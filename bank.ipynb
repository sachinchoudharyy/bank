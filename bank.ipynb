{
 "cells": [
  {
   "cell_type": "code",
   "execution_count": 16,
   "metadata": {},
   "outputs": [
    {
     "name": "stdout",
     "output_type": "stream",
     "text": [
      "5000\n",
      "Withdrawal of 2220 successful. your current balance is 2780\n"
     ]
    }
   ],
   "source": [
    "class acc:\n",
    "    def creat_acc(self):\n",
    "        self.balance=int(input(\"enter balance\"))\n",
    "        with open(\"bank_text.txt\", \"w\") as file:\n",
    "            file.write(f\"{self.balance}\")\n",
    "        print(f\"{self.balance}\")\n",
    "\n",
    "    def check_balance(self):\n",
    "        return f\"Current balance  is {self.balance}\"\n",
    "    \n",
    "    def update_account_file(self):\n",
    "        with open(\"bank_text.txt\", \"w\") as file:\n",
    "            file.write(f\"{self.balance}\")\n",
    "\n",
    "    def withdraw_bal(self, amount):\n",
    "        if amount > self.balance:\n",
    "            return \"Insufficient funds\"\n",
    "        else:\n",
    "            self.balance = self.balance-amount\n",
    "            self.update_account_file()\n",
    "            return f\"Withdrawal of {amount} successful. your current balance is {self.balance}\"\n",
    "        \n",
    "\n",
    "\n",
    "class deposit(acc):\n",
    "    def deposit_bal(self, amount):\n",
    "        self.balance += amount\n",
    "        self.update_account_file()\n",
    "        return f\"Deposit of {amount} successful.your current balance is {self.balance}\"\n",
    "\n",
    "\n",
    "\n",
    "\n",
    "\n",
    "a=acc()\n",
    "\n",
    "d=deposit()\n",
    "d.creat_acc()\n",
    "task=int(input('''please enter what you want\n",
    "               press 1 for checking balance\n",
    "               press 2 foe withdraw money\n",
    "               press 3 for deposite money'''))\n",
    "if task==1:\n",
    " print(d.check_balance())\n",
    "if task==2:\n",
    " withd_ammou=int(input(\"enter ammount you want \"))\n",
    " print(d.withdraw_bal(withd_ammou))\n",
    "if task==3:\n",
    " dep_ammou=int(input(\"enter ammount you want \"))\n",
    " print(d.deposit_bal(dep_ammou))\n",
    "\n",
    "# w.withdraw_bal(4000)\n",
    "\n"
   ]
  },
  {
   "cell_type": "code",
   "execution_count": null,
   "metadata": {},
   "outputs": [],
   "source": []
  }
 ],
 "metadata": {
  "kernelspec": {
   "display_name": "Python 3",
   "language": "python",
   "name": "python3"
  },
  "language_info": {
   "codemirror_mode": {
    "name": "ipython",
    "version": 3
   },
   "file_extension": ".py",
   "mimetype": "text/x-python",
   "name": "python",
   "nbconvert_exporter": "python",
   "pygments_lexer": "ipython3",
   "version": "3.11.4"
  }
 },
 "nbformat": 4,
 "nbformat_minor": 2
}
